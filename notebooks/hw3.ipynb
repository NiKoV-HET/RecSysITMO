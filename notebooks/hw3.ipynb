{
 "cells": [
  {
   "cell_type": "code",
   "execution_count": 1,
   "metadata": {},
   "outputs": [],
   "source": [
    "from pprint import pprint\n",
    "\n",
    "import numpy as np\n",
    "import pandas as pd\n",
    "\n",
    "from tqdm.auto import tqdm\n",
    "\n",
    "from rectools import Columns\n",
    "from rectools.dataset import Interactions, Dataset\n",
    "from rectools.metrics import MRR, MAP, Precision, Recall, MeanInvUserFreq, Serendipity, calc_metrics\n",
    "from rectools.models import RandomModel, PopularModel\n",
    "from rectools.model_selection import TimeRangeSplitter\n",
    "from implicit.nearest_neighbours import CosineRecommender, TFIDFRecommender\n",
    "from userknn import UserKnn\n",
    "import pickle\n",
    "import random\n",
    "\n"
   ]
  },
  {
   "cell_type": "markdown",
   "metadata": {},
   "source": [
    "# Load data"
   ]
  },
  {
   "cell_type": "code",
   "execution_count": 2,
   "metadata": {},
   "outputs": [
    {
     "name": "stdout",
     "output_type": "stream",
     "text": [
      "CPU times: user 3 µs, sys: 1 µs, total: 4 µs\n",
      "Wall time: 8.11 µs\n"
     ]
    }
   ],
   "source": [
    "%%time\n",
    "# !wget https://github.com/irsafilo/KION_DATASET/raw/f69775be31fa5779907cf0a92ddedb70037fb5ae/data_original.zip -O ../data/data_original.zip\n",
    "# !uzip ../data/data_original.zip"
   ]
  },
  {
   "cell_type": "code",
   "execution_count": 3,
   "metadata": {},
   "outputs": [],
   "source": [
    "interactions = pd.read_csv('../data/data_original/interactions.csv')\n",
    "users = pd.read_csv('../data/data_original/users.csv')\n",
    "items = pd.read_csv('../data/data_original/items.csv')"
   ]
  },
  {
   "cell_type": "code",
   "execution_count": 4,
   "metadata": {},
   "outputs": [],
   "source": [
    "interactions = interactions.rename(columns={'total_dur': Columns.Weight, \n",
    "                                            'last_watch_dt': Columns.Datetime})\n",
    "\n",
    "interactions['datetime'] = pd.to_datetime(interactions['datetime'])"
   ]
  },
  {
   "cell_type": "markdown",
   "metadata": {},
   "source": [
    "# Build model"
   ]
  },
  {
   "cell_type": "code",
   "execution_count": 5,
   "metadata": {},
   "outputs": [
    {
     "name": "stdout",
     "output_type": "stream",
     "text": [
      "train: (4985269, 5)\n",
      "test: (349088, 5)\n"
     ]
    }
   ],
   "source": [
    "max_date = interactions['datetime'].max()\n",
    "\n",
    "train = interactions[(interactions['datetime'] < max_date - pd.Timedelta(days=7))]\n",
    "test = interactions[(interactions['datetime'] >= max_date - pd.Timedelta(days=7))]\n",
    "\n",
    "# оставляем только теплых пользователей в тесте\n",
    "test = test[test['user_id'].isin(train['user_id'].unique())]\n",
    "\n",
    "print(f\"train: {train.shape}\")\n",
    "print(f\"test: {test.shape}\")"
   ]
  },
  {
   "cell_type": "markdown",
   "metadata": {},
   "source": [
    "# Popular model"
   ]
  },
  {
   "cell_type": "code",
   "execution_count": 6,
   "metadata": {},
   "outputs": [],
   "source": [
    "dataset = Dataset.construct(\n",
    "    interactions_df=train,\n",
    "    user_features_df=None,\n",
    "    item_features_df=None\n",
    ")"
   ]
  },
  {
   "cell_type": "code",
   "execution_count": 7,
   "metadata": {},
   "outputs": [
    {
     "data": {
      "text/plain": [
       "<rectools.models.popular.PopularModel at 0x7f71c081bb50>"
      ]
     },
     "execution_count": 7,
     "metadata": {},
     "output_type": "execute_result"
    }
   ],
   "source": [
    "pop = PopularModel()\n",
    "pop.fit(dataset)"
   ]
  },
  {
   "cell_type": "code",
   "execution_count": 8,
   "metadata": {},
   "outputs": [
    {
     "data": {
      "text/html": [
       "<div>\n",
       "<style scoped>\n",
       "    .dataframe tbody tr th:only-of-type {\n",
       "        vertical-align: middle;\n",
       "    }\n",
       "\n",
       "    .dataframe tbody tr th {\n",
       "        vertical-align: top;\n",
       "    }\n",
       "\n",
       "    .dataframe thead th {\n",
       "        text-align: right;\n",
       "    }\n",
       "</style>\n",
       "<table border=\"1\" class=\"dataframe\">\n",
       "  <thead>\n",
       "    <tr style=\"text-align: right;\">\n",
       "      <th></th>\n",
       "      <th>user_id</th>\n",
       "      <th>item_id</th>\n",
       "      <th>score</th>\n",
       "      <th>rank</th>\n",
       "    </tr>\n",
       "  </thead>\n",
       "  <tbody>\n",
       "    <tr>\n",
       "      <th>0</th>\n",
       "      <td>176549</td>\n",
       "      <td>10440</td>\n",
       "      <td>187877.0</td>\n",
       "      <td>1</td>\n",
       "    </tr>\n",
       "    <tr>\n",
       "      <th>1</th>\n",
       "      <td>176549</td>\n",
       "      <td>15297</td>\n",
       "      <td>178630.0</td>\n",
       "      <td>2</td>\n",
       "    </tr>\n",
       "    <tr>\n",
       "      <th>2</th>\n",
       "      <td>176549</td>\n",
       "      <td>9728</td>\n",
       "      <td>117779.0</td>\n",
       "      <td>3</td>\n",
       "    </tr>\n",
       "    <tr>\n",
       "      <th>3</th>\n",
       "      <td>176549</td>\n",
       "      <td>13865</td>\n",
       "      <td>113875.0</td>\n",
       "      <td>4</td>\n",
       "    </tr>\n",
       "    <tr>\n",
       "      <th>4</th>\n",
       "      <td>176549</td>\n",
       "      <td>4151</td>\n",
       "      <td>85117.0</td>\n",
       "      <td>5</td>\n",
       "    </tr>\n",
       "  </tbody>\n",
       "</table>\n",
       "</div>"
      ],
      "text/plain": [
       "   user_id  item_id     score  rank\n",
       "0   176549    10440  187877.0     1\n",
       "1   176549    15297  178630.0     2\n",
       "2   176549     9728  117779.0     3\n",
       "3   176549    13865  113875.0     4\n",
       "4   176549     4151   85117.0     5"
      ]
     },
     "execution_count": 8,
     "metadata": {},
     "output_type": "execute_result"
    }
   ],
   "source": [
    "pop_recs = pop.recommend(\n",
    "    dataset.user_id_map.external_ids,\n",
    "    dataset=dataset,\n",
    "    k=20,\n",
    "    filter_viewed=False  # True - удаляет просмотренные айтемы из рекомендаций \n",
    ")\n",
    "\n",
    "pop_recs.head()"
   ]
  },
  {
   "cell_type": "code",
   "execution_count": 9,
   "metadata": {},
   "outputs": [
    {
     "data": {
      "text/html": [
       "<div>\n",
       "<style scoped>\n",
       "    .dataframe tbody tr th:only-of-type {\n",
       "        vertical-align: middle;\n",
       "    }\n",
       "\n",
       "    .dataframe tbody tr th {\n",
       "        vertical-align: top;\n",
       "    }\n",
       "\n",
       "    .dataframe thead th {\n",
       "        text-align: right;\n",
       "    }\n",
       "</style>\n",
       "<table border=\"1\" class=\"dataframe\">\n",
       "  <thead>\n",
       "    <tr style=\"text-align: right;\">\n",
       "      <th></th>\n",
       "      <th>user_id</th>\n",
       "      <th>item_id</th>\n",
       "      <th>score</th>\n",
       "      <th>rank</th>\n",
       "      <th>title</th>\n",
       "    </tr>\n",
       "  </thead>\n",
       "  <tbody>\n",
       "    <tr>\n",
       "      <th>0</th>\n",
       "      <td>176549</td>\n",
       "      <td>10440</td>\n",
       "      <td>187877.0</td>\n",
       "      <td>1</td>\n",
       "      <td>Хрустальный</td>\n",
       "    </tr>\n",
       "    <tr>\n",
       "      <th>1</th>\n",
       "      <td>176549</td>\n",
       "      <td>15297</td>\n",
       "      <td>178630.0</td>\n",
       "      <td>2</td>\n",
       "      <td>Клиника счастья</td>\n",
       "    </tr>\n",
       "    <tr>\n",
       "      <th>2</th>\n",
       "      <td>176549</td>\n",
       "      <td>9728</td>\n",
       "      <td>117779.0</td>\n",
       "      <td>3</td>\n",
       "      <td>Гнев человеческий</td>\n",
       "    </tr>\n",
       "    <tr>\n",
       "      <th>3</th>\n",
       "      <td>176549</td>\n",
       "      <td>13865</td>\n",
       "      <td>113875.0</td>\n",
       "      <td>4</td>\n",
       "      <td>Девятаев</td>\n",
       "    </tr>\n",
       "    <tr>\n",
       "      <th>4</th>\n",
       "      <td>176549</td>\n",
       "      <td>4151</td>\n",
       "      <td>85117.0</td>\n",
       "      <td>5</td>\n",
       "      <td>Секреты семейной жизни</td>\n",
       "    </tr>\n",
       "    <tr>\n",
       "      <th>5</th>\n",
       "      <td>176549</td>\n",
       "      <td>3734</td>\n",
       "      <td>68835.0</td>\n",
       "      <td>6</td>\n",
       "      <td>Прабабушка легкого поведения</td>\n",
       "    </tr>\n",
       "    <tr>\n",
       "      <th>6</th>\n",
       "      <td>176549</td>\n",
       "      <td>2657</td>\n",
       "      <td>66017.0</td>\n",
       "      <td>7</td>\n",
       "      <td>Подслушано</td>\n",
       "    </tr>\n",
       "    <tr>\n",
       "      <th>7</th>\n",
       "      <td>176549</td>\n",
       "      <td>4880</td>\n",
       "      <td>52909.0</td>\n",
       "      <td>8</td>\n",
       "      <td>Афера</td>\n",
       "    </tr>\n",
       "    <tr>\n",
       "      <th>8</th>\n",
       "      <td>176549</td>\n",
       "      <td>142</td>\n",
       "      <td>42466.0</td>\n",
       "      <td>9</td>\n",
       "      <td>Маша</td>\n",
       "    </tr>\n",
       "    <tr>\n",
       "      <th>9</th>\n",
       "      <td>176549</td>\n",
       "      <td>6809</td>\n",
       "      <td>39320.0</td>\n",
       "      <td>10</td>\n",
       "      <td>Дуров</td>\n",
       "    </tr>\n",
       "    <tr>\n",
       "      <th>10</th>\n",
       "      <td>176549</td>\n",
       "      <td>9996</td>\n",
       "      <td>35419.0</td>\n",
       "      <td>11</td>\n",
       "      <td>Немцы</td>\n",
       "    </tr>\n",
       "    <tr>\n",
       "      <th>11</th>\n",
       "      <td>176549</td>\n",
       "      <td>8636</td>\n",
       "      <td>33956.0</td>\n",
       "      <td>12</td>\n",
       "      <td>Белый снег</td>\n",
       "    </tr>\n",
       "    <tr>\n",
       "      <th>12</th>\n",
       "      <td>176549</td>\n",
       "      <td>4740</td>\n",
       "      <td>33763.0</td>\n",
       "      <td>13</td>\n",
       "      <td>Сахаров. Две жизни</td>\n",
       "    </tr>\n",
       "    <tr>\n",
       "      <th>13</th>\n",
       "      <td>176549</td>\n",
       "      <td>12192</td>\n",
       "      <td>31011.0</td>\n",
       "      <td>14</td>\n",
       "      <td>Фемида видит</td>\n",
       "    </tr>\n",
       "    <tr>\n",
       "      <th>14</th>\n",
       "      <td>176549</td>\n",
       "      <td>7571</td>\n",
       "      <td>25918.0</td>\n",
       "      <td>15</td>\n",
       "      <td>100% волк</td>\n",
       "    </tr>\n",
       "    <tr>\n",
       "      <th>15</th>\n",
       "      <td>176549</td>\n",
       "      <td>11237</td>\n",
       "      <td>24942.0</td>\n",
       "      <td>16</td>\n",
       "      <td>День города</td>\n",
       "    </tr>\n",
       "    <tr>\n",
       "      <th>16</th>\n",
       "      <td>176549</td>\n",
       "      <td>1844</td>\n",
       "      <td>23939.0</td>\n",
       "      <td>17</td>\n",
       "      <td>Аферистка</td>\n",
       "    </tr>\n",
       "    <tr>\n",
       "      <th>17</th>\n",
       "      <td>176549</td>\n",
       "      <td>12995</td>\n",
       "      <td>21492.0</td>\n",
       "      <td>18</td>\n",
       "      <td>Восемь сотен</td>\n",
       "    </tr>\n",
       "    <tr>\n",
       "      <th>18</th>\n",
       "      <td>176549</td>\n",
       "      <td>4457</td>\n",
       "      <td>20708.0</td>\n",
       "      <td>19</td>\n",
       "      <td>2067: Петля времени</td>\n",
       "    </tr>\n",
       "    <tr>\n",
       "      <th>19</th>\n",
       "      <td>176549</td>\n",
       "      <td>14431</td>\n",
       "      <td>20203.0</td>\n",
       "      <td>20</td>\n",
       "      <td>Приворот. Чёрное венчание</td>\n",
       "    </tr>\n",
       "  </tbody>\n",
       "</table>\n",
       "</div>"
      ],
      "text/plain": [
       "    user_id  item_id     score  rank                         title\n",
       "0    176549    10440  187877.0     1                   Хрустальный\n",
       "1    176549    15297  178630.0     2               Клиника счастья\n",
       "2    176549     9728  117779.0     3             Гнев человеческий\n",
       "3    176549    13865  113875.0     4                      Девятаев\n",
       "4    176549     4151   85117.0     5        Секреты семейной жизни\n",
       "5    176549     3734   68835.0     6  Прабабушка легкого поведения\n",
       "6    176549     2657   66017.0     7                    Подслушано\n",
       "7    176549     4880   52909.0     8                         Афера\n",
       "8    176549      142   42466.0     9                          Маша\n",
       "9    176549     6809   39320.0    10                         Дуров\n",
       "10   176549     9996   35419.0    11                         Немцы\n",
       "11   176549     8636   33956.0    12                    Белый снег\n",
       "12   176549     4740   33763.0    13            Сахаров. Две жизни\n",
       "13   176549    12192   31011.0    14                  Фемида видит\n",
       "14   176549     7571   25918.0    15                     100% волк\n",
       "15   176549    11237   24942.0    16                   День города\n",
       "16   176549     1844   23939.0    17                     Аферистка\n",
       "17   176549    12995   21492.0    18                  Восемь сотен\n",
       "18   176549     4457   20708.0    19           2067: Петля времени\n",
       "19   176549    14431   20203.0    20     Приворот. Чёрное венчание"
      ]
     },
     "execution_count": 9,
     "metadata": {},
     "output_type": "execute_result"
    }
   ],
   "source": [
    "pop_recs = pop_recs.merge(items[['item_id', 'title']],\n",
    "                           on='item_id',\n",
    "                           how='left')\n",
    "pop_recs[pop_recs['user_id'] == 176549]"
   ]
  },
  {
   "cell_type": "code",
   "execution_count": 10,
   "metadata": {},
   "outputs": [],
   "source": [
    "# with open(\"../service/models/pop_recs.pkl\", \"wb\") as file: # Save popular model\n",
    "#     pickle.dump(pop_recs, file)\n",
    "\n",
    "# with open(\"../service/models/pop_recs.pkl\", \"rb\") as file: # Load popular model\n",
    "#     pop_recs = pickle.load(file)"
   ]
  },
  {
   "cell_type": "markdown",
   "metadata": {},
   "source": [
    "# Train KNN"
   ]
  },
  {
   "cell_type": "code",
   "execution_count": 11,
   "metadata": {},
   "outputs": [
    {
     "name": "stderr",
     "output_type": "stream",
     "text": [
      "/root/RecSysITMO/.venv/lib/python3.10/site-packages/implicit/utils.py:164: ParameterWarning: Method expects CSR input, and was passed coo_matrix instead. Converting to CSR took 0.5752851963043213 seconds\n",
      "  warnings.warn(\n"
     ]
    },
    {
     "data": {
      "application/vnd.jupyter.widget-view+json": {
       "model_id": "0b33500c9d974f5a8735ef1060ad9b69",
       "version_major": 2,
       "version_minor": 0
      },
      "text/plain": [
       "  0%|          | 0/896791 [00:00<?, ?it/s]"
      ]
     },
     "metadata": {},
     "output_type": "display_data"
    },
    {
     "data": {
      "text/plain": [
       "{'map@10': 0.0058447523806030265, 'novelty': 7.671744788118634}"
      ]
     },
     "execution_count": 11,
     "metadata": {},
     "output_type": "execute_result"
    }
   ],
   "source": [
    "userknn_model = UserKnn(model=TFIDFRecommender(20, 4), N_users=50)\n",
    "\n",
    "userknn_model.fit(train)\n",
    "\n",
    "recos = userknn_model.predict(test)\n",
    "\n",
    "metrics = {\n",
    "    'map@10': MAP(k=10),\n",
    "    'novelty': MeanInvUserFreq(k=10),\n",
    "}\n",
    "\n",
    "catalog = train[Columns.Item].unique()\n",
    "metric_values = calc_metrics(\n",
    "    metrics,\n",
    "    reco=recos,\n",
    "    interactions=test,\n",
    "    prev_interactions=train,\n",
    "    catalog=catalog,\n",
    ")\n",
    "\n",
    "# with open(\"../service/models/userknn_model.pkl\", \"wb\") as file: # Save knn model\n",
    "#     pickle.dump(userknn_model, file)\n",
    "    \n",
    "# with open(\"userknn_model.pkl\", \"rb\") as file: # Load popular model\n",
    "#     userknn_model = pickle.load(file)\n",
    "metric_values"
   ]
  },
  {
   "cell_type": "code",
   "execution_count": 12,
   "metadata": {},
   "outputs": [
    {
     "data": {
      "text/html": [
       "<div>\n",
       "<style scoped>\n",
       "    .dataframe tbody tr th:only-of-type {\n",
       "        vertical-align: middle;\n",
       "    }\n",
       "\n",
       "    .dataframe tbody tr th {\n",
       "        vertical-align: top;\n",
       "    }\n",
       "\n",
       "    .dataframe thead th {\n",
       "        text-align: right;\n",
       "    }\n",
       "</style>\n",
       "<table border=\"1\" class=\"dataframe\">\n",
       "  <thead>\n",
       "    <tr style=\"text-align: right;\">\n",
       "      <th></th>\n",
       "      <th>user_id</th>\n",
       "      <th>item_id</th>\n",
       "      <th>score</th>\n",
       "      <th>rank</th>\n",
       "    </tr>\n",
       "  </thead>\n",
       "  <tbody>\n",
       "    <tr>\n",
       "      <th>61</th>\n",
       "      <td>176549</td>\n",
       "      <td>13962</td>\n",
       "      <td>2.547538</td>\n",
       "      <td>1</td>\n",
       "    </tr>\n",
       "    <tr>\n",
       "      <th>47</th>\n",
       "      <td>176549</td>\n",
       "      <td>6737</td>\n",
       "      <td>2.367816</td>\n",
       "      <td>2</td>\n",
       "    </tr>\n",
       "    <tr>\n",
       "      <th>18</th>\n",
       "      <td>176549</td>\n",
       "      <td>5518</td>\n",
       "      <td>2.343482</td>\n",
       "      <td>3</td>\n",
       "    </tr>\n",
       "    <tr>\n",
       "      <th>7</th>\n",
       "      <td>176549</td>\n",
       "      <td>15469</td>\n",
       "      <td>2.328539</td>\n",
       "      <td>4</td>\n",
       "    </tr>\n",
       "    <tr>\n",
       "      <th>22</th>\n",
       "      <td>176549</td>\n",
       "      <td>12448</td>\n",
       "      <td>2.306933</td>\n",
       "      <td>5</td>\n",
       "    </tr>\n",
       "    <tr>\n",
       "      <th>40</th>\n",
       "      <td>176549</td>\n",
       "      <td>10544</td>\n",
       "      <td>2.2719</td>\n",
       "      <td>6</td>\n",
       "    </tr>\n",
       "    <tr>\n",
       "      <th>9</th>\n",
       "      <td>176549</td>\n",
       "      <td>5482</td>\n",
       "      <td>2.251271</td>\n",
       "      <td>7</td>\n",
       "    </tr>\n",
       "    <tr>\n",
       "      <th>11</th>\n",
       "      <td>176549</td>\n",
       "      <td>10688</td>\n",
       "      <td>2.236721</td>\n",
       "      <td>8</td>\n",
       "    </tr>\n",
       "    <tr>\n",
       "      <th>44</th>\n",
       "      <td>176549</td>\n",
       "      <td>7000</td>\n",
       "      <td>2.216956</td>\n",
       "      <td>9</td>\n",
       "    </tr>\n",
       "    <tr>\n",
       "      <th>53</th>\n",
       "      <td>176549</td>\n",
       "      <td>4273</td>\n",
       "      <td>2.204946</td>\n",
       "      <td>10</td>\n",
       "    </tr>\n",
       "  </tbody>\n",
       "</table>\n",
       "</div>"
      ],
      "text/plain": [
       "    user_id item_id     score  rank\n",
       "61   176549   13962  2.547538     1\n",
       "47   176549    6737  2.367816     2\n",
       "18   176549    5518  2.343482     3\n",
       "7    176549   15469  2.328539     4\n",
       "22   176549   12448  2.306933     5\n",
       "40   176549   10544    2.2719     6\n",
       "9    176549    5482  2.251271     7\n",
       "11   176549   10688  2.236721     8\n",
       "44   176549    7000  2.216956     9\n",
       "53   176549    4273  2.204946    10"
      ]
     },
     "execution_count": 12,
     "metadata": {},
     "output_type": "execute_result"
    }
   ],
   "source": [
    "userknn_model.predict(pd.DataFrame([176549], columns=[\"user_id\"]))"
   ]
  },
  {
   "cell_type": "markdown",
   "metadata": {},
   "source": [
    "# Get KNN prediction for offline"
   ]
  },
  {
   "cell_type": "code",
   "execution_count": 13,
   "metadata": {},
   "outputs": [],
   "source": [
    "part_train_users = random.sample(sorted(train[\"user_id\"].unique()), 100000) # If make more, notebook killed\n",
    "userknn_predect = userknn_model.predict(pd.DataFrame(part_train_users, columns=[\"user_id\"]), 20)\n",
    "userknn_predect_result = (userknn_predect.groupby([\"user_id\"])).agg({\"item_id\": lambda x: x.tolist()}).to_dict()[\"item_id\"]"
   ]
  },
  {
   "cell_type": "code",
   "execution_count": 14,
   "metadata": {},
   "outputs": [
    {
     "ename": "",
     "evalue": "",
     "output_type": "error",
     "traceback": [
      "\u001b[1;31mПри выполнении кода в текущей ячейке или предыдущей ячейке ядро аварийно завершило работу. Проверьте код в ячейках, чтобы определить возможную причину сбоя. Щелкните <a href=\"https://aka.ms/vscodeJupyterKernelCrash\">здесь</a> для получения дополнительных сведений. Подробнее см. в <a href='command:jupyter.viewOutput'>журнале Jupyter</a>."
     ]
    }
   ],
   "source": [
    "# with open(\"../service/models/userknn_predect_offline.pkl\", \"wb\") as file: # Save knn recs\n",
    "#     pickle.dump(userknn_predect_result, file)\n",
    "    \n",
    "# with open(\"../service/models/userknn_predect_offline.pkl\", \"rb\") as file: # Load knn recs\n",
    "#     userknn_predect_result = pickle.load(file)"
   ]
  },
  {
   "cell_type": "code",
   "execution_count": null,
   "metadata": {},
   "outputs": [],
   "source": []
  }
 ],
 "metadata": {
  "kernelspec": {
   "display_name": ".venv",
   "language": "python",
   "name": "python3"
  },
  "language_info": {
   "codemirror_mode": {
    "name": "ipython",
    "version": 3
   },
   "file_extension": ".py",
   "mimetype": "text/x-python",
   "name": "python",
   "nbconvert_exporter": "python",
   "pygments_lexer": "ipython3",
   "version": "3.10.12"
  }
 },
 "nbformat": 4,
 "nbformat_minor": 2
}
